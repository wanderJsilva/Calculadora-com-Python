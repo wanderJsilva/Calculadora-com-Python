{
  "cells": [
    {
      "cell_type": "code",
      "source": [
        "#Aqui estão as funções das operações\n",
        "\n",
        "def soma():\n",
        "    x = float(input(\"Primeiro numero: \"))\n",
        "    y = float(input(\"Segundo numero: \"))\n",
        "    print(\"Soma: \",x+y)\n",
        "\n",
        "def subtracao():\n",
        "    x = float(input(\"Primeiro numero: \"))\n",
        "    y = float(input(\"Segundo numero: \"))\n",
        "    print(\"Subtracao: \",x-y)\n",
        "\n",
        "def multiplicacao():\n",
        "    x = float(input(\"Primeiro numero: \"))\n",
        "    y = float(input(\"Segundo numero: \"))\n",
        "    print(\"Multiplicacao: \",x*y)\n",
        "\n",
        "def divisao():\n",
        "    x = float(input(\"Primeiro numero: \"))\n",
        "    y = float(input(\"Segundo numero: \"))\n",
        "    print(\"Divisao: \",x/y)\n",
        "\n",
        "#Aqui abre o laço de repetições das opções\n",
        "\n",
        "opcao=1\n",
        "\n",
        "while opcao:\n",
        "    print(\"0. Sair\")\n",
        "    print(\"1. Somar\")\n",
        "    print(\"2. Subtrair\")\n",
        "    print(\"3. Multiplicação\")\n",
        "    print(\"4. Divisão \")\n",
        "\n",
        "    opcao = int(input(\"Opção: \"))\n",
        "\n",
        "    if(opcao==1):\n",
        "        soma()\n",
        "    if(opcao==2):\n",
        "        subtracao()\n",
        "    if(opcao==3):\n",
        "        multiplicacao()\n",
        "    if(opcao==4):\n",
        "        divisao()"
      ],
      "metadata": {
        "id": "tjlaODArayeB"
      },
      "execution_count": null,
      "outputs": []
    }
  ],
  "metadata": {
    "colab": {
      "collapsed_sections": [],
      "name": "Calculadora.ipynb",
      "provenance": []
    },
    "kernelspec": {
      "display_name": "Python 3",
      "name": "python3"
    }
  },
  "nbformat": 4,
  "nbformat_minor": 0
}